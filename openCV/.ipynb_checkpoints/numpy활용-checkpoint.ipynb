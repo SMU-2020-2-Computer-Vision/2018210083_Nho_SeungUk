{
 "cells": [
  {
   "cell_type": "code",
   "execution_count": 3,
   "metadata": {},
   "outputs": [
    {
     "name": "stdout",
     "output_type": "stream",
     "text": [
      "[0 1 2 3 4 5 6 7 8 9]\n"
     ]
    }
   ],
   "source": [
    "import numpy as np\n",
    "\n",
    "#단일 객체 저장 및 불러오기\n",
    "array = np.arange(0, 10)\n",
    "np.save('save.npy', array)\n",
    "\n",
    "result = np.load('save.npy')\n",
    "print(result)"
   ]
  },
  {
   "cell_type": "code",
   "execution_count": 6,
   "metadata": {},
   "outputs": [
    {
     "name": "stdout",
     "output_type": "stream",
     "text": [
      "[0 1 2 3 4 5 6 7 8 9]\n",
      "[10 11 12 13 14 15 16 17 18 19]\n"
     ]
    }
   ],
   "source": [
    "#복수 객체 저장 및 불러오기\n",
    "array1 = np.arange(0, 10)\n",
    "array2 = np.arange(10, 20)\n",
    "np.savez('saved.npz', array1=array1, array2=array2) #savez는 복수 개의 파일 저장\n",
    "\n",
    "data = np.load('saved.npz')\n",
    "result1 = data['array1']\n",
    "result2 = data['array2']\n",
    "print(result1)\n",
    "print(result2)"
   ]
  },
  {
   "cell_type": "code",
   "execution_count": 14,
   "metadata": {},
   "outputs": [
    {
     "name": "stdout",
     "output_type": "stream",
     "text": [
      "[ 5  9 10  3  1]\n",
      "[ 1  3  5  9 10]\n",
      "[10  9  5  3  1]\n",
      "[[ 5  9 10  3  1]\n",
      " [ 8  3  4  2  5]]\n",
      "[[ 5  3  4  2  1]\n",
      " [ 8  9 10  3  5]]\n"
     ]
    }
   ],
   "source": [
    "#원소의 정렬\n",
    "array = np.array([5, 9, 10, 3, 1])\n",
    "print(array)\n",
    "\n",
    "#오름차순\n",
    "array.sort()\n",
    "print(array)\n",
    "\n",
    "#내림차순\n",
    "print(array[::-1])\n",
    "\n",
    "#각 열을 기준으로 정렬\n",
    "array1 = np.array([[5, 9, 10, 3, 1],[8, 3 , 4, 2, 5]])\n",
    "print(array1)\n",
    "\n",
    "array1.sort(axis=0)\n",
    "print(array1)"
   ]
  },
  {
   "cell_type": "code",
   "execution_count": 23,
   "metadata": {},
   "outputs": [
    {
     "name": "stdout",
     "output_type": "stream",
     "text": [
      "[ 0.   2.5  5.   7.5 10. ]\n",
      "[[4 9 6]\n",
      " [3 3 7]]\n",
      "[99  1  2  3  4  5  6  7  8  9]\n",
      "[0 1 2 3 4 5 6 7 8 9]\n",
      "[1 2 3 4]\n"
     ]
    }
   ],
   "source": [
    "#균일한 간격으로 데이터 생성\n",
    "array = np.linspace(0, 10, 5)\n",
    "print(array)\n",
    "\n",
    "#난수의 재현(실행마다 결과 동일)\n",
    "np.random.seed(7) # <저거 넣어줘야 결과 동일\n",
    "print(np.random.randint(0, 10, (2, 3)))\n",
    "\n",
    "array1 = np.arange(0, 10)\n",
    "array2 = array1\n",
    "array2[0] = 99\n",
    "print(array1)\n",
    "\n",
    "# 위 처럼 array1이 변경되는 걸 막기위항 방법\n",
    "array1 = np.arange(0, 10)\n",
    "array2 = array1.copy() \n",
    "array2[0] = 99\n",
    "print(array1)\n",
    "\n",
    "# 중복된 원소 제거\n",
    "array = np.array([1, 1, 2, 2, 2, 3, 3, 4])\n",
    "print(np.unique(array))"
   ]
  },
  {
   "cell_type": "code",
   "execution_count": null,
   "metadata": {},
   "outputs": [],
   "source": []
  }
 ],
 "metadata": {
  "kernelspec": {
   "display_name": "Python 3",
   "language": "python",
   "name": "python3"
  },
  "language_info": {
   "codemirror_mode": {
    "name": "ipython",
    "version": 3
   },
   "file_extension": ".py",
   "mimetype": "text/x-python",
   "name": "python",
   "nbconvert_exporter": "python",
   "pygments_lexer": "ipython3",
   "version": "3.8.3"
  }
 },
 "nbformat": 4,
 "nbformat_minor": 4
}
