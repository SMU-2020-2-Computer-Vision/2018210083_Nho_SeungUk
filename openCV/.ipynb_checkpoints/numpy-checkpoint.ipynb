{
 "cells": [
  {
   "cell_type": "code",
   "execution_count": 7,
   "metadata": {},
   "outputs": [
    {
     "name": "stdout",
     "output_type": "stream",
     "text": [
      "3\n",
      "int32\n",
      "3\n",
      "[1 2 3]\n",
      "[1, 2, 3]\n"
     ]
    }
   ],
   "source": [
    "import numpy as np\n",
    "\n",
    "list_data = [1, 2, 3]\n",
    "array = np.array(list_data)\n",
    "\n",
    "print(array.size)\n",
    "print(array.dtype)\n",
    "print(array[2])\n",
    "print(array)\n",
    "print(list_data)"
   ]
  },
  {
   "cell_type": "code",
   "execution_count": 11,
   "metadata": {},
   "outputs": [
    {
     "name": "stdout",
     "output_type": "stream",
     "text": [
      "[0 1 2 3]\n",
      "[[0. 0. 0. 0.]\n",
      " [0. 0. 0. 0.]\n",
      " [0. 0. 0. 0.]\n",
      " [0. 0. 0. 0.]]\n",
      "[['1' '1' '1']\n",
      " ['1' '1' '1']\n",
      " ['1' '1' '1']]\n"
     ]
    }
   ],
   "source": [
    "array1 = np.arange(4)\n",
    "\n",
    "\n",
    "print(array1)\n",
    "\n",
    "array2 = np.zeros((4,4), dtype=float)\n",
    "print(array2)\n",
    "\n",
    "array3 = np.ones((3, 3), dtype=str)\n",
    "print(array3)"
   ]
  },
  {
   "cell_type": "code",
   "execution_count": 13,
   "metadata": {},
   "outputs": [
    {
     "name": "stdout",
     "output_type": "stream",
     "text": [
      "[[5 5 2]\n",
      " [7 6 1]\n",
      " [1 3 0]]\n"
     ]
    }
   ],
   "source": [
    "# 0부터 9까지 랜덤하게 초기화 된 배열 만들기\n",
    "array4 = np.random.randint(0, 10, (3, 3))\n",
    "print(array4)"
   ]
  },
  {
   "cell_type": "code",
   "execution_count": 14,
   "metadata": {},
   "outputs": [
    {
     "name": "stdout",
     "output_type": "stream",
     "text": [
      "[[ 0.19791895  0.1531329  -1.10463598]\n",
      " [-0.57799269 -0.262285   -0.1492801 ]\n",
      " [ 0.36581624  0.93076825  2.30916792]]\n"
     ]
    }
   ],
   "source": [
    "# 평균이 0이고, 표준편차가 1인 표준 정규를 띄는 배열\n",
    "array5 = np.random.normal(0, 1, (3, 3))\n",
    "print(array5)"
   ]
  },
  {
   "cell_type": "code",
   "execution_count": 15,
   "metadata": {},
   "outputs": [
    {
     "name": "stdout",
     "output_type": "stream",
     "text": [
      "(6,)\n",
      "[1 2 3 4 5 6]\n"
     ]
    }
   ],
   "source": [
    "# 배열 합치기\n",
    "array6 = np.array([1, 2, 3])\n",
    "array7 = np.array([4, 5, 6])\n",
    "array8 = np.concatenate([array6, array7])\n",
    "\n",
    "print(array8.shape)\n",
    "print(array8)"
   ]
  },
  {
   "cell_type": "code",
   "execution_count": 16,
   "metadata": {},
   "outputs": [
    {
     "name": "stdout",
     "output_type": "stream",
     "text": [
      "[[1 2]\n",
      " [3 4]]\n"
     ]
    }
   ],
   "source": [
    "# numpy 배열 형태 바꾸기(가로축)\n",
    "array9 = np.array([1, 2, 3, 4])\n",
    "array10 = array9.reshape((2, 2))\n",
    "\n",
    "print(array10)"
   ]
  },
  {
   "cell_type": "code",
   "execution_count": 20,
   "metadata": {},
   "outputs": [
    {
     "name": "stdout",
     "output_type": "stream",
     "text": [
      "[[0 1 2 3]]\n",
      "[[0 1 2 3]\n",
      " [4 5 6 7]]\n",
      "[[0 1 2 3]\n",
      " [0 1 2 3]\n",
      " [4 5 6 7]]\n"
     ]
    }
   ],
   "source": [
    "# numpy 배열 형태 바꾸기(세로축)\n",
    "array11 = np.arange(4).reshape(1, 4)\n",
    "array12 = np.arange(8).reshape(2, 4)\n",
    "\n",
    "print(array11)\n",
    "print(array12)\n",
    "\n",
    "array13 = np.concatenate([array11, array12], axis=0)\n",
    "print(array13)"
   ]
  },
  {
   "cell_type": "code",
   "execution_count": 26,
   "metadata": {},
   "outputs": [
    {
     "name": "stdout",
     "output_type": "stream",
     "text": [
      "[[0 1 2 3]\n",
      " [4 5 6 7]]\n",
      "(2, 2)\n",
      "(2, 2)\n",
      "[[0 1]\n",
      " [4 5]]\n"
     ]
    }
   ],
   "source": [
    "array14 = np.arange(8).reshape(2, 4)\n",
    "left, right = np.split(array14, [2], axis = 1)\n",
    "\n",
    "print(array14)\n",
    "\n",
    "print(left.shape)\n",
    "print(right.shape)\n",
    "\n",
    "print(left)"
   ]
  },
  {
   "cell_type": "code",
   "execution_count": null,
   "metadata": {},
   "outputs": [],
   "source": []
  }
 ],
 "metadata": {
  "kernelspec": {
   "display_name": "Python 3",
   "language": "python",
   "name": "python3"
  },
  "language_info": {
   "codemirror_mode": {
    "name": "ipython",
    "version": 3
   },
   "file_extension": ".py",
   "mimetype": "text/x-python",
   "name": "python",
   "nbconvert_exporter": "python",
   "pygments_lexer": "ipython3",
   "version": "3.8.3"
  }
 },
 "nbformat": 4,
 "nbformat_minor": 4
}
