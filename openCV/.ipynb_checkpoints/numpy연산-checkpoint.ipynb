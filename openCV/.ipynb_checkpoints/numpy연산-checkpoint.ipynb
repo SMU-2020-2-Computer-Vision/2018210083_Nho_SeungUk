{
 "cells": [
  {
   "cell_type": "code",
   "execution_count": 1,
   "metadata": {},
   "outputs": [
    {
     "name": "stdout",
     "output_type": "stream",
     "text": [
      "[[9 5]\n",
      " [8 1]]\n"
     ]
    }
   ],
   "source": [
    "import numpy as np\n",
    "\n",
    "array = np.random.randint(1, 10, size=4).reshape(2,2)\n",
    "print(array)"
   ]
  },
  {
   "cell_type": "code",
   "execution_count": 3,
   "metadata": {},
   "outputs": [
    {
     "name": "stdout",
     "output_type": "stream",
     "text": [
      "[[90 50]\n",
      " [80 10]]\n"
     ]
    }
   ],
   "source": [
    "result_array = array * 10\n",
    "print(result_array)"
   ]
  },
  {
   "cell_type": "code",
   "execution_count": 5,
   "metadata": {},
   "outputs": [
    {
     "name": "stdout",
     "output_type": "stream",
     "text": [
      "[[0 2]\n",
      " [2 4]]\n"
     ]
    }
   ],
   "source": [
    "#브로드캐스트: 형태가 다른 배열을 연산할 수 있도록 배열의 형태를 동적으로 변환\n",
    "array1 = np.arange(4).reshape(2, 2) # (2 x 2)\n",
    "array2 = np.arange(2) # (1 x 2)\n",
    "\n",
    "array3 = array1 + array2\n",
    "\n",
    "print(array3)"
   ]
  },
  {
   "cell_type": "code",
   "execution_count": 9,
   "metadata": {},
   "outputs": [
    {
     "name": "stdout",
     "output_type": "stream",
     "text": [
      "[[ 0  1  2  3]\n",
      " [ 5  6  7  8]\n",
      " [ 2  3  4  5]\n",
      " [ 7  8  9 10]]\n"
     ]
    }
   ],
   "source": [
    "array4 = np.arange(0, 8).reshape(2, 4)\n",
    "array5 = np.arange(0, 8).reshape(2, 4)\n",
    "array6 = np.concatenate([array4, array5], axis = 0)\n",
    "\n",
    "array7 = np.arange(0, 4).reshape(4, 1) #( 4 x 1)\n",
    "print(array6 + array7)"
   ]
  },
  {
   "cell_type": "code",
   "execution_count": 18,
   "metadata": {},
   "outputs": [
    {
     "name": "stdout",
     "output_type": "stream",
     "text": [
      "[[ 0  1  2  3]\n",
      " [ 4  5  6  7]\n",
      " [ 8  9 10 11]\n",
      " [12 13 14 15]]\n",
      "[[ True  True  True  True]\n",
      " [ True  True  True  True]\n",
      " [ True  True False False]\n",
      " [False False False False]]\n",
      "[[100 100 100 100]\n",
      " [100 100 100 100]\n",
      " [100 100  10  11]\n",
      " [ 12  13  14  15]]\n"
     ]
    }
   ],
   "source": [
    "# 마스킹 연산은 픽셀값을 바꿀 때 잘 활용할 수 있음\n",
    "array8 = np.arange(0, 16).reshape(4, 4)\n",
    "print(array8)\n",
    "\n",
    "array9 = array8 < 10\n",
    "print(array9)\n",
    "\n",
    "array8[array9] = 100 \n",
    "print(array8)"
   ]
  },
  {
   "cell_type": "code",
   "execution_count": 23,
   "metadata": {},
   "outputs": [
    {
     "name": "stdout",
     "output_type": "stream",
     "text": [
      "최대값:  15\n",
      "최소값:  0\n",
      "합계:  120\n",
      "평균값:  7.5\n",
      "최대값:  [12 13 14 15]\n",
      "최소값:  [0 1 2 3]\n",
      "합계:  [24 28 32 36]\n",
      "평균값:  [6. 7. 8. 9.]\n"
     ]
    }
   ],
   "source": [
    "# 집계함수\n",
    "\n",
    "array = np.arange(16).reshape(4, 4)\n",
    "\n",
    "print(\"최대값: \", np.max(array))\n",
    "print(\"최소값: \", np.min(array))\n",
    "print(\"합계: \", np.sum(array))\n",
    "print(\"평균값: \", np.mean(array))\n",
    "\n",
    "print(\"최대값: \", np.max(array, axis=0))\n",
    "print(\"최소값: \", np.min(array, axis=0))\n",
    "print(\"합계: \", np.sum(array, axis=0))\n",
    "print(\"평균값: \", np.mean(array, axis=0))"
   ]
  },
  {
   "cell_type": "code",
   "execution_count": null,
   "metadata": {},
   "outputs": [],
   "source": []
  }
 ],
 "metadata": {
  "kernelspec": {
   "display_name": "Python 3",
   "language": "python",
   "name": "python3"
  },
  "language_info": {
   "codemirror_mode": {
    "name": "ipython",
    "version": 3
   },
   "file_extension": ".py",
   "mimetype": "text/x-python",
   "name": "python",
   "nbconvert_exporter": "python",
   "pygments_lexer": "ipython3",
   "version": "3.8.3"
  }
 },
 "nbformat": 4,
 "nbformat_minor": 4
}
